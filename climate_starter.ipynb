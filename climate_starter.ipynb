{
 "cells": [
  {
   "cell_type": "code",
   "execution_count": 2,
   "metadata": {
    "tags": []
   },
   "outputs": [],
   "source": [
    "%matplotlib inline\n",
    "from matplotlib import style\n",
    "style.use('fivethirtyeight')\n",
    "import matplotlib.pyplot as plt\n",
    "from matplotlib import colors\n",
    "from matplotlib.ticker import PercentFormatter"
   ]
  },
  {
   "cell_type": "code",
   "execution_count": 3,
   "metadata": {
    "tags": []
   },
   "outputs": [],
   "source": [
    "import pandas as pd"
   ]
  },
  {
   "cell_type": "code",
   "execution_count": 4,
   "metadata": {},
   "outputs": [],
   "source": [
    "import datetime as dt"
   ]
  },
  {
   "cell_type": "markdown",
   "metadata": {},
   "source": [
    "# General Overview of Datasets\n",
    "## Familiarize with the data"
   ]
  },
  {
   "cell_type": "code",
   "execution_count": 5,
   "metadata": {},
   "outputs": [],
   "source": [
    "measurement_df = pd.read_csv(\"Resources/hawaii_measurements.csv\")\n",
    "station_df = pd.read_csv(\"Resources/hawaii_stations.csv\")"
   ]
  },
  {
   "cell_type": "code",
   "execution_count": 6,
   "metadata": {
    "scrolled": true,
    "tags": []
   },
   "outputs": [
    {
     "name": "stdout",
     "output_type": "stream",
     "text": [
      "<class 'pandas.core.frame.DataFrame'>\n",
      "RangeIndex: 19550 entries, 0 to 19549\n",
      "Data columns (total 4 columns):\n",
      " #   Column   Non-Null Count  Dtype  \n",
      "---  ------   --------------  -----  \n",
      " 0   station  19550 non-null  object \n",
      " 1   date     19550 non-null  object \n",
      " 2   prcp     18103 non-null  float64\n",
      " 3   tobs     19550 non-null  int64  \n",
      "dtypes: float64(1), int64(1), object(2)\n",
      "memory usage: 611.1+ KB\n"
     ]
    }
   ],
   "source": [
    "measurement_df.info()"
   ]
  },
  {
   "cell_type": "code",
   "execution_count": 7,
   "metadata": {
    "tags": []
   },
   "outputs": [
    {
     "name": "stdout",
     "output_type": "stream",
     "text": [
      "<class 'pandas.core.frame.DataFrame'>\n",
      "RangeIndex: 9 entries, 0 to 8\n",
      "Data columns (total 5 columns):\n",
      " #   Column     Non-Null Count  Dtype  \n",
      "---  ------     --------------  -----  \n",
      " 0   station    9 non-null      object \n",
      " 1   name       9 non-null      object \n",
      " 2   latitude   9 non-null      float64\n",
      " 3   longitude  9 non-null      float64\n",
      " 4   elevation  9 non-null      float64\n",
      "dtypes: float64(3), object(2)\n",
      "memory usage: 488.0+ bytes\n"
     ]
    }
   ],
   "source": [
    "station_df.info()"
   ]
  },
  {
   "cell_type": "markdown",
   "metadata": {},
   "source": [
    "# Reflect Tables into SQLAlchemy ORM"
   ]
  },
  {
   "cell_type": "code",
   "execution_count": 8,
   "metadata": {},
   "outputs": [],
   "source": [
    "# Python SQL toolkit and Object Relational Mapper\n",
    "import sqlalchemy\n",
    "from sqlalchemy.ext.automap import automap_base\n",
    "from sqlalchemy.orm import Session\n",
    "from sqlalchemy import create_engine, func, distinct, desc"
   ]
  },
  {
   "cell_type": "code",
   "execution_count": 9,
   "metadata": {},
   "outputs": [],
   "source": [
    "#Creating a database engine\n",
    "#dialact object = hawaii.sqlite \n",
    "#no pool created here, but is possible\n",
    "engine = create_engine(\"sqlite:///Resources/hawaii.sqlite\")\n",
    "conn = engine.connect()"
   ]
  },
  {
   "cell_type": "code",
   "execution_count": 10,
   "metadata": {},
   "outputs": [],
   "source": [
    "# reflect an existing database into a new model - brings the ORM\n",
    "Base = automap_base()\n",
    "\n",
    "# reflect the tables\n",
    "Base.prepare(engine,reflect=True)"
   ]
  },
  {
   "cell_type": "code",
   "execution_count": 11,
   "metadata": {},
   "outputs": [
    {
     "data": {
      "text/plain": [
       "['measurement', 'station']"
      ]
     },
     "execution_count": 11,
     "metadata": {},
     "output_type": "execute_result"
    }
   ],
   "source": [
    "# We can view all of the classes that automap found\n",
    "Base.classes.keys()"
   ]
  },
  {
   "cell_type": "code",
   "execution_count": 12,
   "metadata": {},
   "outputs": [],
   "source": [
    "# Save references to each table\n",
    "m = Base.classes.measurement\n",
    "s = Base.classes.station\n",
    "\n",
    "# station = pd.read_sql(\"SELECT * FROM station\", conn)\n",
    "# measurement = pd.read_sql(\"SELECT * FROM measurement\", conn)"
   ]
  },
  {
   "cell_type": "code",
   "execution_count": 13,
   "metadata": {},
   "outputs": [],
   "source": [
    "# Create our session (link) from Python to the ORM which is linked to the base linked to connection and engine \n",
    "session = Session(engine)"
   ]
  },
  {
   "cell_type": "markdown",
   "metadata": {},
   "source": [
    "# Exploratory Climate Analysis"
   ]
  },
  {
   "cell_type": "code",
   "execution_count": 14,
   "metadata": {
    "tags": []
   },
   "outputs": [],
   "source": [
    "# Design a query to retrieve the last 12 months of precipitation data and plot the results\n",
    "#Get the last date in the dataset\n",
    "last_date = session.query(m.date).order_by(m.date.desc()).first()[0]\n",
    "\n",
    "#Convert query result (string) to datetime\n",
    "last_date = dt.datetime.strptime(str(last_date), \"%Y-%M-%d\")\n",
    "\n",
    "# Calculate the date 1 year ago from the last data point in the database\n",
    "one_year = last_date - dt.timedelta(days=365)\n",
    "\n",
    "# Perform a query to retrieve the data and precipitation scores\n",
    "query = session.query(m.date, m.station, m.prcp, m.tobs).filter(m.date > one_year)\n",
    "\n",
    "one_df = pd.DataFrame(query)"
   ]
  },
  {
   "cell_type": "markdown",
   "metadata": {},
   "source": [
    "## Precipitation Analysis"
   ]
  },
  {
   "cell_type": "code",
   "execution_count": 15,
   "metadata": {},
   "outputs": [
    {
     "data": {
      "text/plain": [
       "count    3201.000000\n",
       "mean        0.179641\n",
       "std         0.495144\n",
       "min         0.000000\n",
       "25%         0.000000\n",
       "50%         0.020000\n",
       "75%         0.140000\n",
       "max         9.640000\n",
       "Name: prcp, dtype: float64"
      ]
     },
     "execution_count": 15,
     "metadata": {},
     "output_type": "execute_result"
    }
   ],
   "source": [
    "# Use Pandas to calculate the summary statistics for the precipitation data\n",
    "one_df[\"prcp\"].describe()"
   ]
  },
  {
   "cell_type": "code",
   "execution_count": 16,
   "metadata": {},
   "outputs": [],
   "source": [
    "#Query for the last year of precipitation data\n",
    "prcp_query = session.query(m.date, m.prcp)\\\n",
    "                    .filter(m.date > one_year)\n",
    "\n",
    "#Convert to pandas dataframe set date to index\n",
    "prcp_year = pd.DataFrame(prcp_query).set_index(['date']).sort_values(\"date\")"
   ]
  },
  {
   "cell_type": "code",
   "execution_count": 17,
   "metadata": {},
   "outputs": [
    {
     "data": {
      "image/png": "[encoded data removed]",
      "text/plain": [
       "<Figure size 432x288 with 1 Axes>"
      ]
     },
     "metadata": {},
     "output_type": "display_data"
    }
   ],
   "source": [
    "ax = prcp_year.plot(y = 'prcp', title=\"Hawaii Rainfall\", use_index=True, color = \"navy\")\n",
    "ax.set_ylabel(\"Inches\")\n",
    "ax.set_xticklabels(prcp_year.index,rotation = 90)\n",
    "plt.tight_layout()\n",
    "plt.savefig(\"images/hawaii_rainfall.png\")\n",
    "plt.show()"
   ]
  },
  {
   "cell_type": "markdown",
   "metadata": {},
   "source": [
    "## Station Analysis"
   ]
  },
  {
   "cell_type": "code",
   "execution_count": 18,
   "metadata": {
    "tags": []
   },
   "outputs": [
    {
     "name": "stdout",
     "output_type": "stream",
     "text": [
      "There are 7 stations in the dataset.\n"
     ]
    }
   ],
   "source": [
    "# Design a query to show how many stations are available in this dataset? \n",
    "#Pandas version\n",
    "tot_stat = one_df[\"station\"].nunique()\n",
    "print(f\"There are {tot_stat} stations in the dataset.\")"
   ]
  },
  {
   "cell_type": "code",
   "execution_count": 19,
   "metadata": {
    "tags": []
   },
   "outputs": [
    {
     "name": "stdout",
     "output_type": "stream",
     "text": [
      "There are 7 weather stations in the Hawaii dataset.\n"
     ]
    }
   ],
   "source": [
    "# Design a query to show how many stations are available in this dataset? \n",
    "#SQLAlchmey version\n",
    "x = session.query(distinct(m.station))\\\n",
    "            .filter(m.date > one_year)\\\n",
    "            .count()\n",
    "print(f\"There are {x} weather stations in the Hawaii dataset.\")\n"
   ]
  },
  {
   "cell_type": "code",
   "execution_count": 20,
   "metadata": {
    "tags": []
   },
   "outputs": [
    {
     "name": "stdout",
     "output_type": "stream",
     "text": [
      "The most active weather station is USC00519397 with 572 recordings\n"
     ]
    }
   ],
   "source": [
    "# What are the most active stations? (i.e. what stations have the most rows)?\n",
    "# List the stations and the counts in descending order.\n",
    "stat_top = one_df.groupby([\"station\"])\\\n",
    "                    .count()[\"tobs\"]\\\n",
    "                    .sort_values(ascending=False)\n",
    "stat_top = pd.DataFrame(stat_top).reset_index()\n",
    "top_station = stat_top.iloc[0][\"station\"]\n",
    "top_counts = stat_top.iloc[0][\"tobs\"]\n",
    "\n",
    "print(f\"The most active weather station is {top_station} with {top_counts} recordings\")"
   ]
  },
  {
   "cell_type": "code",
   "execution_count": 21,
   "metadata": {
    "tags": []
   },
   "outputs": [],
   "source": [
    "# Using the station id from the previous query, calculate the lowest temperature recorded, \n",
    "# highest temperature recorded, and average temperature of the most active station?\n",
    "low_top_temp = session.query(m.tobs)\\\n",
    "            .filter(m.date > one_year)\\\n",
    "            .filter(m.station == top_station)\\\n",
    "            .order_by(m.tobs).first()\n",
    "\n",
    "high_top_temp = session.query(m.tobs)\\\n",
    "            .filter(m.date > one_year)\\\n",
    "            .filter(m.station == top_station)\\\n",
    "            .order_by(m.tobs.desc()).first()\n",
    "\n",
    "avg_top_temp = session.query(func.avg(m.tobs))\\\n",
    "            .filter(m.date > one_year)\\\n",
    "            .filter(m.station == top_station).first()\n",
    "\n",
    "#Convert results to dataframe\n",
    "low_top_temp = pd.DataFrame(low_top_temp).reset_index()\n",
    "low_top_temp = low_top_temp.iloc[0][0]\n",
    "\n",
    "#Convert results to dataframe\n",
    "high_top_temp = pd.DataFrame(high_top_temp).reset_index()\n",
    "high_top_temp = high_top_temp.iloc[0][0]\n",
    "\n",
    "#Convert results to dataframe\n",
    "avg_top_temp = pd.DataFrame(avg_top_temp).reset_index()\n",
    "avg_top_temp = avg_top_temp.iloc[0][0]\n",
    "\n"
   ]
  },
  {
   "cell_type": "code",
   "execution_count": 22,
   "metadata": {
    "tags": []
   },
   "outputs": [
    {
     "name": "stdout",
     "output_type": "stream",
     "text": [
      "Temperature recordings for weather station USC00519397\n",
      "------------------------------------------------------\n",
      "Minumum Temperature: 60.0\n",
      "Maximum Temperture: 87.0\n",
      "Average Temperature: 75.0\n"
     ]
    }
   ],
   "source": [
    "\n",
    "print(f\"Temperature recordings for weather station {top_station}\")\n",
    "print(\"------------------------------------------------------\")\n",
    "print(f\"Minumum Temperature: {low_top_temp}\")\n",
    "print(f\"Maximum Temperture: {high_top_temp}\")\n",
    "print(f\"Average Temperature: {round(avg_top_temp,1)}\")"
   ]
  },
  {
   "cell_type": "code",
   "execution_count": 23,
   "metadata": {},
   "outputs": [
    {
     "data": {
      "image/png": "[encoded data removed]",
      "text/plain": [
       "<Figure size 432x288 with 1 Axes>"
      ]
     },
     "metadata": {},
     "output_type": "display_data"
    }
   ],
   "source": [
    "# Choose the station with the highest number of temperature observations.\n",
    "# Query the last 12 months of temperature observation data for this station and plot the results as a histogram\n",
    "year_top_temp = session.query(m.date, m.tobs)\\\n",
    "            .filter(m.date > one_year)\\\n",
    "            .filter(m.station == top_station)\n",
    "year_top_temp = pd.DataFrame(year_top_temp)\n",
    "\n",
    "year_top_temp_hist = plt.hist(year_top_temp[\"tobs\"], bins = 12,\n",
    "                      facecolor='#86bf91', zorder=2, rwidth=0.9)\n",
    "\n",
    "plt.xlabel(\"Temperature (F)\")\n",
    "plt.ylabel(\"Frequency\")\n",
    "plt.title(f\"Temperature Recordings\\n Station {top_station}\")\n",
    "plt.grid(True)\n",
    "plt.savefig(\"images/top_station_temp.png\")\n",
    "plt.show()"
   ]
  },
  {
   "cell_type": "code",
   "execution_count": 24,
   "metadata": {},
   "outputs": [
    {
     "data": {
      "image/png": "[encoded data removed]",
      "text/plain": [
       "<Figure size 720x360 with 2 Axes>"
      ]
     },
     "metadata": {},
     "output_type": "display_data"
    }
   ],
   "source": [
    "#playing around with Matplotlib for cool histograms\n",
    "x = year_top_temp[\"tobs\"]\n",
    "plt.close('all')\n",
    "fig, (ax1, ax2)= plt.subplots(1, 2, figsize = (10,5))\n",
    "\n",
    "# N is the count in each bin, bins is the lower-limit of the bin\n",
    "N, bins, patches = ax1.hist(x, bins=12)\n",
    "\n",
    "# We'll color code by height, but you could use any scalar\n",
    "fracs = N / N.max()\n",
    "\n",
    "# we need to normalize the data to 0..1 for the full range of the colormap\n",
    "norm = colors.Normalize(fracs.min(), fracs.max())\n",
    "\n",
    "# Now, we'll loop through our objects and set the color of each accordingly\n",
    "for thisfrac, thispatch in zip(fracs, patches):\n",
    "    color = plt.cm.viridis(norm(thisfrac))\n",
    "    thispatch.set_facecolor(color)\n",
    "\n",
    "# We can also normalize our inputs by the total number of counts\n",
    "ax2.hist(x, bins=12, density=True)\n",
    "\n",
    "# Now we format the y-axis to display percentage\n",
    "ax2.yaxis.set_major_formatter(PercentFormatter(xmax=1))\n",
    "\n",
    "suptitle = plt.suptitle(f\"Temperature Recordings\\n Station: {top_station}\", y=1.1)\n",
    "ax1.set_ylabel(\"Frequency\")\n",
    "ax2.set_ylabel(\"Percent\")\n",
    "ax1.set_xlabel(\"Temp\")\n",
    "ax2.set_xlabel(\"Temp\")\n",
    "\n",
    "plt.tight_layout(pad = 0.4, w_pad = 0.5, h_pad = 1)\n",
    "plt.savefig(\"images/top_station_temp_heat.png\", bbox_extra_artists=(suptitle,), bbox_inches=\"tight\")\n",
    "plt.show()\n"
   ]
  },
  {
   "cell_type": "markdown",
   "metadata": {},
   "source": [
    "## Bonus Challenge Assignment"
   ]
  },
  {
   "cell_type": "code",
   "execution_count": 25,
   "metadata": {
    "tags": []
   },
   "outputs": [
    {
     "name": "stdout",
     "output_type": "stream",
     "text": [
      "[(62.0, 69.57142857142857, 74.0)]\n"
     ]
    }
   ],
   "source": [
    "# This function called `calc_temps` will accept start date and end date in the format '%Y-%m-%d' \n",
    "# and return the minimum, average, and maximum temperatures for that range of dates\n",
    "def calc_temps(start_date, end_date):\n",
    "    \"\"\"TMIN, TAVG, and TMAX for a list of dates.\n",
    "    \n",
    "    Args:\n",
    "        start_date (string): A date string in the format %Y-%m-%d\n",
    "        end_date (string): A date string in the format %Y-%m-%d\n",
    "        \n",
    "    Returns:\n",
    "        TMIN, TAVE, and TMAX\n",
    "    \"\"\"\n",
    "    \n",
    "    return session.query(func.min(m.tobs), func.avg(m.tobs), func.max(m.tobs)).\\\n",
    "        filter(m.date >= start_date).filter(m.date <= end_date).all()\n",
    "\n",
    "# function usage example\n",
    "print(calc_temps('2012-02-28', '2012-03-05'))\n"
   ]
  },
  {
   "cell_type": "markdown",
   "metadata": {},
   "source": [
    "## My Super Awesome Birthday Trip to Hawaii\n",
    "### Dates: 11/20/2020 - 11/26/20"
   ]
  },
  {
   "cell_type": "code",
   "execution_count": 26,
   "metadata": {
    "tags": []
   },
   "outputs": [
    {
     "name": "stdout",
     "output_type": "stream",
     "text": [
      "[(69.0, 74.48780487804878, 80.0)]\n"
     ]
    }
   ],
   "source": [
    "# Use your previous function `calc_temps` to calculate the tmin, tavg, and tmax \n",
    "# for your trip using the previous year's data for those same dates.\n",
    "def calc_temps(start_date, end_date):\n",
    "    \"\"\"TMIN, TAVG, and TMAX for a list of dates.\n",
    "    \n",
    "    Args:\n",
    "        start_date (string): A date string in the format %Y-%m-%d\n",
    "        end_date (string): A date string in the format %Y-%m-%d\n",
    "        \n",
    "    Returns:\n",
    "        TMIN, TAVE, and TMAX\n",
    "    \"\"\"\n",
    "    \n",
    "    return session.query(func.min(m.tobs), func.avg(m.tobs),\\\n",
    "                        func.max(m.tobs))\\\n",
    "                        .filter(m.date >= start_date)\\\n",
    "                        .filter(m.date <= end_date).all()\n",
    "\n",
    "start_trip = '2016-11-20'\n",
    "end_trip = '2016-11-26'\n",
    "trip_stats = calc_temps(start_trip,end_trip)\n",
    "\n",
    "print(trip_stats)"
   ]
  },
  {
   "cell_type": "code",
   "execution_count": 27,
   "metadata": {},
   "outputs": [
    {
     "data": {
      "image/png": "[encoded data removed]",
      "text/plain": [
       "<Figure size 216x432 with 1 Axes>"
      ]
     },
     "metadata": {},
     "output_type": "display_data"
    }
   ],
   "source": [
    "# Plot the results from your previous query as a bar chart. \n",
    "# Use \"Trip Avg Temp\" as your Title\n",
    "# Use the average temperature for the y value\n",
    "# Use the peak-to-peak (tmax-tmin) value as the y error bar (yerr)\n",
    "df = pd.DataFrame([74.488])\n",
    "ax = df.plot(kind='bar', title = \"Hawaii Trip \\n Average Temps\", legend = False, yerr=[[11], [11]], color = \"teal\", figsize = (3,6))\n",
    "\n",
    "ax.set_ylabel(\"Temperature (F)\")\n",
    "ax.xaxis.set_ticklabels([])\n",
    "plt.tight_layout()\n",
    "plt.savefig(\"images/hawaii_trip_avg\")\n",
    "plt.show()\n"
   ]
  },
  {
   "cell_type": "code",
   "execution_count": 28,
   "metadata": {
    "tags": []
   },
   "outputs": [
    {
     "data": {
      "text/html": [
       "<div>\n",
       "<style scoped>\n",
       "    .dataframe tbody tr th:only-of-type {\n",
       "        vertical-align: middle;\n",
       "    }\n",
       "\n",
       "    .dataframe tbody tr th {\n",
       "        vertical-align: top;\n",
       "    }\n",
       "\n",
       "    .dataframe thead th {\n",
       "        text-align: right;\n",
       "    }\n",
       "</style>\n",
       "<table border=\"1\" class=\"dataframe\">\n",
       "  <thead>\n",
       "    <tr style=\"text-align: right;\">\n",
       "      <th></th>\n",
       "      <th>station</th>\n",
       "      <th>name</th>\n",
       "      <th>latitude</th>\n",
       "      <th>longitude</th>\n",
       "      <th>elevation</th>\n",
       "      <th>avg_prcp</th>\n",
       "    </tr>\n",
       "  </thead>\n",
       "  <tbody>\n",
       "    <tr>\n",
       "      <th>0</th>\n",
       "      <td>USC00516128</td>\n",
       "      <td>MANOA LYON ARBO 785.2, HI US</td>\n",
       "      <td>21.33310</td>\n",
       "      <td>-157.80250</td>\n",
       "      <td>152.4</td>\n",
       "      <td>7.25</td>\n",
       "    </tr>\n",
       "    <tr>\n",
       "      <th>1</th>\n",
       "      <td>USC00519281</td>\n",
       "      <td>WAIHEE 837.5, HI US</td>\n",
       "      <td>21.45167</td>\n",
       "      <td>-157.84889</td>\n",
       "      <td>32.9</td>\n",
       "      <td>3.24</td>\n",
       "    </tr>\n",
       "    <tr>\n",
       "      <th>2</th>\n",
       "      <td>USC00519523</td>\n",
       "      <td>WAIMANALO EXPERIMENTAL FARM, HI US</td>\n",
       "      <td>21.33556</td>\n",
       "      <td>-157.71139</td>\n",
       "      <td>19.5</td>\n",
       "      <td>1.16</td>\n",
       "    </tr>\n",
       "    <tr>\n",
       "      <th>3</th>\n",
       "      <td>USC00513117</td>\n",
       "      <td>KANEOHE 838.1, HI US</td>\n",
       "      <td>21.42340</td>\n",
       "      <td>-157.80150</td>\n",
       "      <td>14.6</td>\n",
       "      <td>0.87</td>\n",
       "    </tr>\n",
       "    <tr>\n",
       "      <th>4</th>\n",
       "      <td>USC00519397</td>\n",
       "      <td>WAIKIKI 717.2, HI US</td>\n",
       "      <td>21.27160</td>\n",
       "      <td>-157.81680</td>\n",
       "      <td>3.0</td>\n",
       "      <td>0.48</td>\n",
       "    </tr>\n",
       "    <tr>\n",
       "      <th>5</th>\n",
       "      <td>USC00514830</td>\n",
       "      <td>KUALOA RANCH HEADQUARTERS 886.9, HI US</td>\n",
       "      <td>21.52130</td>\n",
       "      <td>-157.83740</td>\n",
       "      <td>7.0</td>\n",
       "      <td>0.02</td>\n",
       "    </tr>\n",
       "    <tr>\n",
       "      <th>6</th>\n",
       "      <td>USC00517948</td>\n",
       "      <td>PEARL CITY, HI US</td>\n",
       "      <td>21.39340</td>\n",
       "      <td>-157.97510</td>\n",
       "      <td>11.9</td>\n",
       "      <td>NaN</td>\n",
       "    </tr>\n",
       "  </tbody>\n",
       "</table>\n",
       "</div>"
      ],
      "text/plain": [
       "       station                                    name  latitude  longitude  \\\n",
       "0  USC00516128            MANOA LYON ARBO 785.2, HI US  21.33310 -157.80250   \n",
       "1  USC00519281                     WAIHEE 837.5, HI US  21.45167 -157.84889   \n",
       "2  USC00519523      WAIMANALO EXPERIMENTAL FARM, HI US  21.33556 -157.71139   \n",
       "3  USC00513117                    KANEOHE 838.1, HI US  21.42340 -157.80150   \n",
       "4  USC00519397                    WAIKIKI 717.2, HI US  21.27160 -157.81680   \n",
       "5  USC00514830  KUALOA RANCH HEADQUARTERS 886.9, HI US  21.52130 -157.83740   \n",
       "6  USC00517948                       PEARL CITY, HI US  21.39340 -157.97510   \n",
       "\n",
       "   elevation  avg_prcp  \n",
       "0      152.4      7.25  \n",
       "1       32.9      3.24  \n",
       "2       19.5      1.16  \n",
       "3       14.6      0.87  \n",
       "4        3.0      0.48  \n",
       "5        7.0      0.02  \n",
       "6       11.9       NaN  "
      ]
     },
     "execution_count": 28,
     "metadata": {},
     "output_type": "execute_result"
    }
   ],
   "source": [
    "# Calculate the total amount of rainfall per weather station for your trip dates using the previous year's matching dates.\n",
    "# Sort this in descending order by precipitation amount and list the station, name, latitude, longitude, and elevation\n",
    "\n",
    "trip_prcp = (session.query(s.station, \n",
    "                        s.name, \n",
    "                        s.latitude,\n",
    "                        s.longitude, \n",
    "                        s.elevation,func.\n",
    "                        sum(m.prcp).label(\"avg_prcp\"))\\\n",
    "                        .group_by(m.station)\\\n",
    "                        .filter(m.date >= start_trip)\\\n",
    "                        .filter(m.date <= end_trip)\\\n",
    "                        .filter(m.station == s.station))\\\n",
    "                        .order_by(desc(\"avg_prcp\"))\n",
    "\n",
    "trip_df = pd.DataFrame(trip_prcp)\n",
    "trip_df"
   ]
  },
  {
   "cell_type": "code",
   "execution_count": 29,
   "metadata": {},
   "outputs": [
    {
     "data": {
      "text/plain": [
       "[(62.0, 69.15384615384616, 77.0)]"
      ]
     },
     "execution_count": 29,
     "metadata": {},
     "output_type": "execute_result"
    }
   ],
   "source": [
    "# Create a query that will calculate the daily normals \n",
    "# (i.e. the averages for tmin, tmax, and tavg for all historic data matching a specific month and day)\n",
    "\n",
    "def daily_normals(date):\n",
    "    \"\"\"Daily Normals.\n",
    "    \n",
    "    Args:\n",
    "        date (str): A date string in the format '%m-%d'\n",
    "        \n",
    "    Returns:\n",
    "        A list of tuples containing the daily normals, tmin, tavg, and tmax\n",
    "    \n",
    "    \"\"\"\n",
    "    \n",
    "    sel = [func.min(m.tobs), func.avg(m.tobs), func.max(m.tobs)]\n",
    "    return session.query(*sel).filter(func.strftime(\"%m-%d\", m.date) == date).all()\n",
    "    \n",
    "daily_normals(\"01-01\")"
   ]
  },
  {
   "cell_type": "code",
   "execution_count": 30,
   "metadata": {
    "tags": []
   },
   "outputs": [
    {
     "data": {
      "text/plain": [
       "[(67.0, 73.03921568627452, 80.0),\n",
       " (66.0, 73.34, 81.0),\n",
       " (65.0, 71.98, 80.0),\n",
       " (64.0, 72.2, 80.0),\n",
       " (66.0, 72.56521739130434, 77.0),\n",
       " (63.0, 72.43181818181819, 78.0),\n",
       " (67.0, 73.51063829787235, 78.0)]"
      ]
     },
     "execution_count": 30,
     "metadata": {},
     "output_type": "execute_result"
    }
   ],
   "source": [
    "# calculate the daily normals for your trip\n",
    "# push each tuple of calculations into a list called `normals`\n",
    "# Set the start and end date of the trip\n",
    "bday_start = \"2020-11-20\"\n",
    "bday_end = \"2020-11-26\"\n",
    "\n",
    "start_date = pd.to_datetime(bday_start)\n",
    "end_date = pd.to_datetime(bday_end)\n",
    "\n",
    "# Use the start and end date to create a range of dates\n",
    "trip_range = pd.date_range(start = start_date, end=end_date)\n",
    "\n",
    "# Stip off the year and save a list of %m-%d strings\n",
    "trip_m_d = [i.strftime(\"%m-%d\") for i in trip_range]\n",
    "#Loop through the list of %m-%d strings and calculate the normals for each date\n",
    "normals = []\n",
    "for x in trip_m_d:\n",
    "    normals.append(daily_normals(x)[0])\n",
    "\n",
    "normals"
   ]
  },
  {
   "cell_type": "code",
   "execution_count": 31,
   "metadata": {
    "tags": []
   },
   "outputs": [
    {
     "data": {
      "text/html": [
       "<div>\n",
       "<style scoped>\n",
       "    .dataframe tbody tr th:only-of-type {\n",
       "        vertical-align: middle;\n",
       "    }\n",
       "\n",
       "    .dataframe tbody tr th {\n",
       "        vertical-align: top;\n",
       "    }\n",
       "\n",
       "    .dataframe thead th {\n",
       "        text-align: right;\n",
       "    }\n",
       "</style>\n",
       "<table border=\"1\" class=\"dataframe\">\n",
       "  <thead>\n",
       "    <tr style=\"text-align: right;\">\n",
       "      <th></th>\n",
       "      <th>TMIN</th>\n",
       "      <th>TAVG</th>\n",
       "      <th>TMAX</th>\n",
       "    </tr>\n",
       "  </thead>\n",
       "  <tbody>\n",
       "    <tr>\n",
       "      <th>11-20</th>\n",
       "      <td>67.0</td>\n",
       "      <td>73.039216</td>\n",
       "      <td>80.0</td>\n",
       "    </tr>\n",
       "    <tr>\n",
       "      <th>11-21</th>\n",
       "      <td>66.0</td>\n",
       "      <td>73.340000</td>\n",
       "      <td>81.0</td>\n",
       "    </tr>\n",
       "    <tr>\n",
       "      <th>11-22</th>\n",
       "      <td>65.0</td>\n",
       "      <td>71.980000</td>\n",
       "      <td>80.0</td>\n",
       "    </tr>\n",
       "    <tr>\n",
       "      <th>11-23</th>\n",
       "      <td>64.0</td>\n",
       "      <td>72.200000</td>\n",
       "      <td>80.0</td>\n",
       "    </tr>\n",
       "    <tr>\n",
       "      <th>11-24</th>\n",
       "      <td>66.0</td>\n",
       "      <td>72.565217</td>\n",
       "      <td>77.0</td>\n",
       "    </tr>\n",
       "    <tr>\n",
       "      <th>11-25</th>\n",
       "      <td>63.0</td>\n",
       "      <td>72.431818</td>\n",
       "      <td>78.0</td>\n",
       "    </tr>\n",
       "    <tr>\n",
       "      <th>11-26</th>\n",
       "      <td>67.0</td>\n",
       "      <td>73.510638</td>\n",
       "      <td>78.0</td>\n",
       "    </tr>\n",
       "  </tbody>\n",
       "</table>\n",
       "</div>"
      ],
      "text/plain": [
       "       TMIN       TAVG  TMAX\n",
       "11-20  67.0  73.039216  80.0\n",
       "11-21  66.0  73.340000  81.0\n",
       "11-22  65.0  71.980000  80.0\n",
       "11-23  64.0  72.200000  80.0\n",
       "11-24  66.0  72.565217  77.0\n",
       "11-25  63.0  72.431818  78.0\n",
       "11-26  67.0  73.510638  78.0"
      ]
     },
     "execution_count": 31,
     "metadata": {},
     "output_type": "execute_result"
    }
   ],
   "source": [
    "# Load the previous query results into a Pandas DataFrame and add the `trip_dates` range as the `date` index\n",
    "trip_norm_df = pd.DataFrame(normals, columns = [\"TMIN\", \"TAVG\", \"TMAX\"], index = trip_m_d)\n",
    "trip_norm_df\n",
    "\n"
   ]
  },
  {
   "cell_type": "code",
   "execution_count": 32,
   "metadata": {},
   "outputs": [
    {
     "data": {
      "image/png": "[encoded data removed]",
      "text/plain": [
       "<Figure size 432x288 with 1 Axes>"
      ]
     },
     "metadata": {},
     "output_type": "display_data"
    }
   ],
   "source": [
    "trip_norm_df.plot.area(stacked=False)\n",
    "plt.legend(loc=\"lower right\")\n",
    "plt.title(\"Hawaii Trip Normal Temperature Range\")\n",
    "plt.xlabel(\"Trip Date\")\n",
    "plt.ylabel(\"Temperature(F)\")\n",
    "\n",
    "plt.tight_layout()\n",
    "plt.savefig(\"images/hawaii_trip_norms.png\")\n",
    "plt.show()"
   ]
  }
 ],
 "metadata": {
  "kernel_info": {
   "name": "python3"
  },
  "kernelspec": {
   "display_name": "PythonData",
   "language": "python",
   "name": "pythondata"
  },
  "language_info": {
   "codemirror_mode": {
    "name": "ipython",
    "version": 3
   },
   "file_extension": ".py",
   "mimetype": "text/x-python",
   "name": "python",
   "nbconvert_exporter": "python",
   "pygments_lexer": "ipython3",
   "version": "3.7.6"
  },
  "nteract": {
   "version": "0.12.3"
  },
  "varInspector": {
   "cols": {
    "lenName": 16,
    "lenType": 16,
    "lenVar": 40
   },
   "kernels_config": {
    "python": {
     "delete_cmd_postfix": "",
     "delete_cmd_prefix": "del ",
     "library": "var_list.py",
     "varRefreshCmd": "print(var_dic_list())"
    },
    "r": {
     "delete_cmd_postfix": ") ",
     "delete_cmd_prefix": "rm(",
     "library": "var_list.r",
     "varRefreshCmd": "cat(var_dic_list()) "
    }
   },
   "types_to_exclude": [
    "module",
    "function",
    "builtin_function_or_method",
    "instance",
    "_Feature"
   ],
   "window_display": false
  }
 },
 "nbformat": 4,
 "nbformat_minor": 2
}
